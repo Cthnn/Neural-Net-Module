{
  "nbformat": 4,
  "nbformat_minor": 0,
  "metadata": {
    "colab": {
      "name": "CNN-PYTORCH-MNIST.ipynb",
      "provenance": [],
      "collapsed_sections": []
    },
    "kernelspec": {
      "name": "python3",
      "display_name": "Python 3"
    },
    "language_info": {
      "name": "python"
    },
    "accelerator": "GPU"
  },
  "cells": [
    {
      "cell_type": "markdown",
      "metadata": {
        "id": "YU3o8s5UBQAK"
      },
      "source": [
        "# Import necessary libraries"
      ]
    },
    {
      "cell_type": "code",
      "metadata": {
        "id": "v-RaHr_D_t03"
      },
      "source": [
        "import torch\n",
        "import torch.nn as nn\n",
        "import torchvision.transforms as transforms\n",
        "import torchvision.datasets as datasets\n",
        "from torch.autograd import Variable\n",
        "import matplotlib.pyplot as plt"
      ],
      "execution_count": 120,
      "outputs": []
    },
    {
      "cell_type": "markdown",
      "metadata": {
        "id": "wHL4uxW3BUVX"
      },
      "source": [
        "# Get the data"
      ]
    },
    {
      "cell_type": "code",
      "metadata": {
        "id": "xVoCXfYr_uWP"
      },
      "source": [
        "# Create transformer that makes tensors\n",
        "transforms = transforms.Compose([transforms.ToTensor()])\n",
        "\n",
        "#Load our dataset\n",
        "train_dataset = datasets.MNIST(root = './data', \n",
        "                            train = True, \n",
        "                            transform = transforms,\n",
        "                            download = True)\n",
        "\n",
        "test_dataset = datasets.MNIST(root = './data', \n",
        "                            train = False, \n",
        "                            transform = transforms)"
      ],
      "execution_count": 121,
      "outputs": []
    },
    {
      "cell_type": "markdown",
      "metadata": {
        "id": "NS-Y68qHBeWG"
      },
      "source": [
        "# Visualizing the data\n"
      ]
    },
    {
      "cell_type": "code",
      "metadata": {
        "colab": {
          "base_uri": "https://localhost:8080/",
          "height": 365
        },
        "id": "aSsJXHFh_vUb",
        "outputId": "46ae391f-f856-4abf-9c87-615cf7bd5365"
      },
      "source": [
        "plt.figure(figsize=(15, 3))\n",
        "for i in range(5):\n",
        "    plt.subplot(1, 5, i+1)\n",
        "    plt.title('Sample Image of Class {}'.format(train_dataset[i][1]))\n",
        "    plt.imshow(train_dataset[i][0].reshape(28, 28), cmap='gray')\n",
        "    plt.axis(\"off\")\n",
        "plt.show()\n",
        "plt.figure(figsize=(15, 3))\n",
        "for i in range(5):\n",
        "    plt.subplot(1, 5, i+1)\n",
        "    plt.title('Sample Image of Class {}'.format(test_dataset[i][1]))\n",
        "    plt.imshow(test_dataset[i][0].reshape(28, 28), cmap='gray')\n",
        "    plt.axis(\"off\")\n",
        "plt.show()"
      ],
      "execution_count": 129,
      "outputs": [
        {
          "output_type": "display_data",
          "data": {
            "image/png": "[encoded data removed]",
            "text/plain": [
              "<Figure size 1080x216 with 5 Axes>"
            ]
          },
          "metadata": {
            "tags": [],
            "needs_background": "light"
          }
        },
        {
          "output_type": "display_data",
          "data": {
            "image/png": "[encoded data removed]",
            "text/plain": [
              "<Figure size 1080x216 with 5 Axes>"
            ]
          },
          "metadata": {
            "tags": [],
            "needs_background": "light"
          }
        }
      ]
    },
    {
      "cell_type": "code",
      "metadata": {
        "id": "KlGAm0ae_wrC"
      },
      "source": [
        "batch_size = 64\n",
        "#Make the dataset iterable\n",
        "train_load = torch.utils.data.DataLoader(dataset = train_dataset, \n",
        "                                         batch_size = batch_size,\n",
        "                                         shuffle = True)\n",
        "\n",
        "test_load = torch.utils.data.DataLoader(dataset = test_dataset, \n",
        "                                         batch_size = batch_size,\n",
        "                                         shuffle = False)"
      ],
      "execution_count": 123,
      "outputs": []
    },
    {
      "cell_type": "markdown",
      "metadata": {
        "id": "6VhsJjgTBnVJ"
      },
      "source": [
        "# Build the model"
      ]
    },
    {
      "cell_type": "code",
      "metadata": {
        "id": "PJP24Jvk_8fu"
      },
      "source": [
        "#Create the model class\n",
        "class CNN(nn.Module):\n",
        "    def __init__(self):\n",
        "        super(CNN,self).__init__()\n",
        "        # input is 28 x 28\n",
        "        self.cnn1 = nn.Conv2d(in_channels=1, out_channels=8, kernel_size=3,stride=1, padding=1)\n",
        "        # output per channel is 28x28\n",
        "        self.batchnorm1 = nn.BatchNorm2d(8)\n",
        "        self.relu = nn.ReLU()\n",
        "        self.maxpool = nn.MaxPool2d(kernel_size=2)\n",
        "        # output per channel is 14x14\n",
        "        self.cnn2 = nn.Conv2d(in_channels=8, out_channels=32, kernel_size=5, stride=1, padding=2)\n",
        "        self.batchnorm2 = nn.BatchNorm2d(32)\n",
        "        # another maxpool here\n",
        "        # output per channel is 7x7 for 32 channels\n",
        "        # 7x7x64 = 3136\n",
        "        self.fc1 = nn.Linear(in_features=1568, out_features=600)\n",
        "        self.droput = nn.Dropout(p=0.5)\n",
        "        self.fc2 = nn.Linear(in_features=600, out_features=10)\n",
        "    def forward(self,x):\n",
        "        out = self.cnn1(x)\n",
        "        out = self.batchnorm1(out)\n",
        "        out = self.relu(out)\n",
        "        out = self.maxpool(out)\n",
        "        out = self.cnn2(out)\n",
        "        out = self.batchnorm2(out)\n",
        "        out = self.relu(out)\n",
        "        out = self.maxpool(out)\n",
        "        out = out.view(-1,1568)\n",
        "        out = self.fc1(out)\n",
        "        out = self.relu(out)\n",
        "        out = self.droput(out)\n",
        "        out = self.fc2(out)\n",
        "        return out"
      ],
      "execution_count": 124,
      "outputs": []
    },
    {
      "cell_type": "markdown",
      "metadata": {
        "id": "LmFEQa0-BuiJ"
      },
      "source": [
        "# Train the model"
      ]
    },
    {
      "cell_type": "code",
      "metadata": {
        "colab": {
          "base_uri": "https://localhost:8080/"
        },
        "id": "we6H_Ah9AAFK",
        "outputId": "f04222ac-29fe-4fdd-abde-c1e3300f71dc"
      },
      "source": [
        "model = CNN()\n",
        "CUDA = torch.cuda.is_available()\n",
        "if CUDA:\n",
        "    model = model.cuda()    \n",
        "loss_fn = nn.CrossEntropyLoss()        \n",
        "optimizer = torch.optim.SGD(model.parameters(), lr = 0.01)\n",
        "\n",
        "\n",
        "num_epochs = 5\n",
        "\n",
        "train_loss = []\n",
        "test_loss = []\n",
        "train_accuracy = []\n",
        "test_accuracy = []\n",
        "\n",
        "#Training\n",
        "for epoch in range(num_epochs): \n",
        "    correct = 0\n",
        "    iterations = 0\n",
        "    iter_loss = 0.0\n",
        "\n",
        "    model.train()         \n",
        "    \n",
        "    for i, (inputs, labels) in enumerate(train_load):\n",
        "        \n",
        "        if CUDA:\n",
        "            inputs = inputs.cuda()\n",
        "            labels = labels.cuda()\n",
        "        \n",
        "        outputs = model(inputs)         \n",
        "        loss = loss_fn(outputs, labels)  \n",
        "        iter_loss += loss.item()         # Accumulate the loss\n",
        "        optimizer.zero_grad()            # Clear off the gradient in (w = w - gradient)\n",
        "        loss.backward()                 # Backpropagation \n",
        "        optimizer.step()                # Update the weights\n",
        "        \n",
        "        # Record the correct predictions for training data \n",
        "        _, predicted = torch.max(outputs, 1)\n",
        "        correct += (predicted == labels).sum()\n",
        "        iterations += 1\n",
        "    \n",
        "    # Record the training loss\n",
        "    train_loss.append(iter_loss/iterations)\n",
        "    # Record the training accuracy\n",
        "    train_accuracy.append((100 * correct / len(train_dataset)))\n",
        "   \n",
        "    #Validation\n",
        "    testing_loss = 0.0\n",
        "    correct = 0\n",
        "    iterations = 0\n",
        "\n",
        "    model.eval()                    # Put the network into evaluation mode\n",
        "    \n",
        "    for i, (inputs, labels) in enumerate(test_load):\n",
        "\n",
        "        if CUDA:\n",
        "            inputs = inputs.cuda()\n",
        "            labels = labels.cuda()\n",
        "        \n",
        "        outputs = model(inputs)     \n",
        "        loss = loss_fn(outputs, labels) # Calculate the loss\n",
        "        testing_loss += loss.item()\n",
        "        # Record the correct predictions for training data\n",
        "        _, predicted = torch.max(outputs, 1)\n",
        "        correct += (predicted == labels).sum()\n",
        "        \n",
        "        iterations += 1\n",
        "\n",
        "    # Record the validation loss\n",
        "    test_loss.append(testing_loss/iterations)\n",
        "    # Record the validation accuracy\n",
        "    test_accuracy.append((100 * correct / len(test_dataset)))\n",
        "    \n",
        "    print ('Epoch {}/{}, Training Loss: {:.3f}, Training Accuracy: {:.3f}, Validation Loss: {:.3f}, Validation Accuracy: {:.3f}'\n",
        "           .format(epoch+1, num_epochs, train_loss[-1], train_accuracy[-1], \n",
        "             test_loss[-1], test_accuracy[-1]))"
      ],
      "execution_count": 125,
      "outputs": [
        {
          "output_type": "stream",
          "text": [
            "Epoch 1/5, Training Loss: 0.364, Training Accuracy: 90.120, Testing Loss: 0.118, Testing Acc: 96.480\n",
            "Epoch 2/5, Training Loss: 0.126, Training Accuracy: 96.320, Testing Loss: 0.079, Testing Acc: 97.490\n",
            "Epoch 3/5, Training Loss: 0.093, Training Accuracy: 97.285, Testing Loss: 0.064, Testing Acc: 98.080\n",
            "Epoch 4/5, Training Loss: 0.077, Training Accuracy: 97.700, Testing Loss: 0.055, Testing Acc: 98.340\n",
            "Epoch 5/5, Training Loss: 0.066, Training Accuracy: 98.072, Testing Loss: 0.048, Testing Acc: 98.470\n"
          ],
          "name": "stdout"
        }
      ]
    },
    {
      "cell_type": "markdown",
      "metadata": {
        "id": "7ZHyOdF0B1fy"
      },
      "source": [
        "# Evaluate the trained model"
      ]
    },
    {
      "cell_type": "code",
      "metadata": {
        "colab": {
          "base_uri": "https://localhost:8080/"
        },
        "id": "Glh9PPAecB0P",
        "outputId": "0d72e386-6873-4054-a2a6-c15a4a4bcff7"
      },
      "source": [
        "# Prepare testing tensor\n",
        "test_dataset_array = next(iter(test_load))[0]\n",
        "test_dataset_label = next(iter(test_load))[1]\n",
        "\n",
        "# Get predictions\n",
        "_, outputs = torch.max(model(test_dataset_array.cuda()), 1)\n",
        "\n",
        "# Calculate accuracy\n",
        "print(f\"Testing accuracy: {(torch.sum(outputs == test_dataset_label.cuda())/outputs.shape[0]).item()}\")"
      ],
      "execution_count": 130,
      "outputs": [
        {
          "output_type": "stream",
          "text": [
            "Testing accuracy: 1.0\n"
          ],
          "name": "stdout"
        }
      ]
    },
    {
      "cell_type": "code",
      "metadata": {
        "colab": {
          "base_uri": "https://localhost:8080/",
          "height": 281
        },
        "id": "vd2OzYAWulpC",
        "outputId": "067e94bb-4767-48a0-b783-1220be58719f"
      },
      "source": [
        "_, predicted = torch.max(model(test_dataset_array[0:1].cuda()), 1)\n",
        "\n",
        "plt.imshow(test_dataset_array[0].reshape(28,28), cmap = 'gray')\n",
        "plt.title(f\"Label: {predicted.item()}\")\n",
        "plt.show()"
      ],
      "execution_count": 137,
      "outputs": [
        {
          "output_type": "display_data",
          "data": {
            "image/png": "[encoded data removed]",
            "text/plain": [
              "<Figure size 432x288 with 1 Axes>"
            ]
          },
          "metadata": {
            "tags": [],
            "needs_background": "light"
          }
        }
      ]
    }
  ]
}