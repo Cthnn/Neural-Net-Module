{
  "nbformat": 4,
  "nbformat_minor": 0,
  "metadata": {
    "colab": {
      "name": "CNN-TF-MNIST.ipynb",
      "provenance": [],
      "collapsed_sections": [],
      "toc_visible": true
    },
    "kernelspec": {
      "name": "python3",
      "display_name": "Python 3"
    },
    "language_info": {
      "name": "python"
    },
    "accelerator": "GPU"
  },
  "cells": [
    {
      "cell_type": "markdown",
      "metadata": {
        "id": "aVko0kuL1OyE"
      },
      "source": [
        "[Google Colab Notebook](https://colab.research.google.com/drive/1ebtUmUJWTu_wngIHlm05Bo3cokVUdjld#scrollTo=XIUhK_IbjLBG)"
      ]
    },
    {
      "cell_type": "markdown",
      "metadata": {
        "id": "K7DQDBH9irSh"
      },
      "source": [
        "# Import necessary libraries\n",
        "\n"
      ]
    },
    {
      "cell_type": "code",
      "metadata": {
        "id": "qBGAAOuQi3Ke"
      },
      "source": [
        "import numpy as np\n",
        "from tensorflow import keras\n",
        "from tensorflow.keras import layers\n",
        "import matplotlib.pyplot as plt\n",
        "from tensorflow.keras import regularizers"
      ],
      "execution_count": 33,
      "outputs": []
    },
    {
      "cell_type": "markdown",
      "metadata": {
        "id": "n1nC7_pRkc7q"
      },
      "source": [
        "# Get the data\n",
        "\n"
      ]
    },
    {
      "cell_type": "code",
      "metadata": {
        "colab": {
          "base_uri": "https://localhost:8080/"
        },
        "id": "oIqhFmmui5ng",
        "outputId": "baba12e5-7c24-476f-944e-bc7fa0f2f6c3"
      },
      "source": [
        "# Problem parameters\n",
        "num_classes = 10\n",
        "input_shape = (28, 28, 1)\n",
        "\n",
        "# Split into training and testing\n",
        "(x_train, y_train), (x_test, y_test) = keras.datasets.mnist.load_data()"
      ],
      "execution_count": 4,
      "outputs": [
        {
          "output_type": "stream",
          "text": [
            "Downloading data from https://storage.googleapis.com/tensorflow/tf-keras-datasets/mnist.npz\n",
            "11493376/11490434 [==============================] - 0s 0us/step\n"
          ],
          "name": "stdout"
        }
      ]
    },
    {
      "cell_type": "markdown",
      "metadata": {
        "id": "W6xmU9kI7xzT"
      },
      "source": [
        "# Visualizing the data"
      ]
    },
    {
      "cell_type": "code",
      "metadata": {
        "colab": {
          "base_uri": "https://localhost:8080/",
          "height": 365
        },
        "id": "aGQ4_cyZ7w74",
        "outputId": "978d87d9-b909-4a2b-97f7-1900e75f26ec"
      },
      "source": [
        "plt.figure(figsize=(15, 3))\n",
        "for i in range(5):\n",
        "    plt.subplot(1, 5, i+1)\n",
        "    plt.title('Sample Image of Class {}'.format(y_train[i]))\n",
        "    plt.imshow(x_train[i], cmap='gray')\n",
        "    plt.axis(\"off\")\n",
        "plt.show()\n",
        "plt.figure(figsize=(15, 3))\n",
        "for i in range(5):\n",
        "    plt.subplot(1, 5, i+1)\n",
        "    plt.title('Sample Image of Class {}'.format(y_test[i]))\n",
        "    plt.imshow(x_test[i], cmap='gray')\n",
        "    plt.axis(\"off\")\n",
        "plt.show()"
      ],
      "execution_count": 5,
      "outputs": [
        {
          "output_type": "display_data",
          "data": {
            "image/png": "[encoded data removed]",
            "text/plain": [
              "<Figure size 1080x216 with 5 Axes>"
            ]
          },
          "metadata": {
            "tags": [],
            "needs_background": "light"
          }
        },
        {
          "output_type": "display_data",
          "data": {
            "image/png": "[encoded data removed]",
            "text/plain": [
              "<Figure size 1080x216 with 5 Axes>"
            ]
          },
          "metadata": {
            "tags": [],
            "needs_background": "light"
          }
        }
      ]
    },
    {
      "cell_type": "markdown",
      "metadata": {
        "id": "Mm82AD0i8Bik"
      },
      "source": [
        "# Prepare the data"
      ]
    },
    {
      "cell_type": "code",
      "metadata": {
        "colab": {
          "base_uri": "https://localhost:8080/"
        },
        "id": "ZHRA1Q9x8Epa",
        "outputId": "a7b18d1e-9059-47b5-98da-8c285caddd49"
      },
      "source": [
        "# Standard Normalization to have mean = 0 and std = 1\n",
        "x_train = (x_train - np.mean(x_train))/ np.std(x_train)\n",
        "x_test = (x_test - np.mean(x_test))/ np.std(x_test)\n",
        "\n",
        "\n",
        "# Reshape into TF format (28, 28, 1)\n",
        "x_train = np.expand_dims(x_train, -1)\n",
        "x_test = np.expand_dims(x_test, -1)\n",
        "print(\"x_train shape:\", x_train.shape)\n",
        "print(x_train.shape[0], \"train samples\")\n",
        "print(x_test.shape[0], \"test samples\")\n",
        "\n",
        "\n",
        "# Convert labels into one-hot encodings (3 = [0 0 1 0 0 0 0 0 0 0])\n",
        "y_train = keras.utils.to_categorical(y_train, num_classes)\n",
        "y_test = keras.utils.to_categorical(y_test, num_classes)"
      ],
      "execution_count": 6,
      "outputs": [
        {
          "output_type": "stream",
          "text": [
            "x_train shape: (60000, 28, 28, 1)\n",
            "60000 train samples\n",
            "10000 test samples\n"
          ],
          "name": "stdout"
        }
      ]
    },
    {
      "cell_type": "markdown",
      "metadata": {
        "id": "t3UHtLTYkqqf"
      },
      "source": [
        "# Build the model\n",
        "\n",
        "Convolutional layers tend to be used in the first layers\n",
        "\n",
        "Pooling layers are used to reduce the size of the features while keeping most of the information\n",
        "\n",
        "Batch normalization layers are used to make it easier for optimization\n",
        "\n",
        "Flatten layers reshape the data into a single vector.\n",
        "\n",
        "Dropout layers are used only in training to reduce overfitting.\n",
        "\n",
        "Dense layers are fully connected layers (like in a standard ANN).\n",
        "\n"
      ]
    },
    {
      "cell_type": "code",
      "metadata": {
        "colab": {
          "base_uri": "https://localhost:8080/"
        },
        "id": "XIUhK_IbjLBG",
        "outputId": "618f881e-0f74-448c-caa9-45b5bc6ec9a2"
      },
      "source": [
        "model = keras.Sequential(\n",
        "    [\n",
        "        keras.Input(shape=input_shape),\n",
        "        layers.Conv2D(filters = 32, kernel_size=(3, 3), activation=\"relu\"), #,kernel_regularizer=regularizers.l2(0.0001)\n",
        "        layers.BatchNormalization(),\n",
        "        layers.MaxPooling2D(pool_size=(2, 2)),\n",
        "        layers.Conv2D(filters = 64, kernel_size=(5, 5), activation=\"relu\"), #,kernel_regularizer=regularizers.l2(0.0001)\n",
        "        layers.BatchNormalization(),\n",
        "        layers.MaxPooling2D(pool_size=(2, 2),),\n",
        "        layers.Flatten(),\n",
        "        layers.Dropout(rate = 0.3),\n",
        "        layers.Dense(num_classes, activation=\"softmax\"),\n",
        "    ]\n",
        ")\n",
        "\n",
        "model.summary()"
      ],
      "execution_count": 34,
      "outputs": [
        {
          "output_type": "stream",
          "text": [
            "Model: \"sequential_8\"\n",
            "_________________________________________________________________\n",
            "Layer (type)                 Output Shape              Param #   \n",
            "=================================================================\n",
            "conv2d_19 (Conv2D)           (None, 26, 26, 32)        320       \n",
            "_________________________________________________________________\n",
            "batch_normalization_17 (Batc (None, 26, 26, 32)        128       \n",
            "_________________________________________________________________\n",
            "max_pooling2d_17 (MaxPooling (None, 13, 13, 32)        0         \n",
            "_________________________________________________________________\n",
            "conv2d_20 (Conv2D)           (None, 9, 9, 64)          51264     \n",
            "_________________________________________________________________\n",
            "batch_normalization_18 (Batc (None, 9, 9, 64)          256       \n",
            "_________________________________________________________________\n",
            "max_pooling2d_18 (MaxPooling (None, 4, 4, 64)          0         \n",
            "_________________________________________________________________\n",
            "flatten_8 (Flatten)          (None, 1024)              0         \n",
            "_________________________________________________________________\n",
            "dropout_8 (Dropout)          (None, 1024)              0         \n",
            "_________________________________________________________________\n",
            "dense_12 (Dense)             (None, 10)                10250     \n",
            "=================================================================\n",
            "Total params: 62,218\n",
            "Trainable params: 62,026\n",
            "Non-trainable params: 192\n",
            "_________________________________________________________________\n"
          ],
          "name": "stdout"
        }
      ]
    },
    {
      "cell_type": "markdown",
      "metadata": {
        "id": "nyyY6wVRkxNt"
      },
      "source": [
        "# Train the model\n",
        "\n",
        "Cross entropy is the function that will be optimized: https://gombru.github.io/2018/05/23/cross_entropy_loss/\n",
        "\n",
        "Adam is the optimization algorithm used to find the weights: https://ruder.io/optimizing-gradient-descent/index.html#adam\n",
        "\n",
        "The learning rate commands how much the weights are updated: https://machinelearningmastery.com/learning-rate-for-deep-learning-neural-networks/"
      ]
    },
    {
      "cell_type": "code",
      "metadata": {
        "colab": {
          "base_uri": "https://localhost:8080/"
        },
        "id": "9xdT1G-rjORt",
        "outputId": "bd56067d-b9a3-4633-cb6e-1127403690f9"
      },
      "source": [
        "batch_size = 128\n",
        "epochs = 15\n",
        "opt = keras.optimizers.Adam(learning_rate=0.01, beta_1 = 0.9)\n",
        "loss_fn = keras.losses.CategoricalCrossentropy()\n",
        "model.compile(loss=loss_fn, optimizer=opt, metrics=[\"accuracy\"])\n",
        "\n",
        "model.fit(x_train, y_train, batch_size=batch_size, epochs=epochs, validation_split=0.1)"
      ],
      "execution_count": 35,
      "outputs": [
        {
          "output_type": "stream",
          "text": [
            "Epoch 1/15\n",
            "422/422 [==============================] - 5s 11ms/step - loss: 0.4473 - accuracy: 0.9064 - val_loss: 0.1059 - val_accuracy: 0.9785\n",
            "Epoch 2/15\n",
            "422/422 [==============================] - 4s 10ms/step - loss: 0.0972 - accuracy: 0.9807 - val_loss: 0.0866 - val_accuracy: 0.9857\n",
            "Epoch 3/15\n",
            "422/422 [==============================] - 4s 10ms/step - loss: 0.0823 - accuracy: 0.9841 - val_loss: 0.0972 - val_accuracy: 0.9813\n",
            "Epoch 4/15\n",
            "422/422 [==============================] - 4s 10ms/step - loss: 0.0826 - accuracy: 0.9846 - val_loss: 0.0799 - val_accuracy: 0.9878\n",
            "Epoch 5/15\n",
            "422/422 [==============================] - 4s 10ms/step - loss: 0.0882 - accuracy: 0.9839 - val_loss: 0.0793 - val_accuracy: 0.9892\n",
            "Epoch 6/15\n",
            "422/422 [==============================] - 4s 10ms/step - loss: 0.0943 - accuracy: 0.9834 - val_loss: 0.0903 - val_accuracy: 0.9860\n",
            "Epoch 7/15\n",
            "422/422 [==============================] - 4s 10ms/step - loss: 0.0907 - accuracy: 0.9846 - val_loss: 0.1031 - val_accuracy: 0.9847\n",
            "Epoch 8/15\n",
            "422/422 [==============================] - 4s 10ms/step - loss: 0.0896 - accuracy: 0.9861 - val_loss: 0.1148 - val_accuracy: 0.9785\n",
            "Epoch 9/15\n",
            "422/422 [==============================] - 4s 10ms/step - loss: 0.0995 - accuracy: 0.9838 - val_loss: 0.0884 - val_accuracy: 0.9875\n",
            "Epoch 10/15\n",
            "422/422 [==============================] - 4s 10ms/step - loss: 0.0959 - accuracy: 0.9849 - val_loss: 0.0848 - val_accuracy: 0.9885\n",
            "Epoch 11/15\n",
            "422/422 [==============================] - 4s 10ms/step - loss: 0.0891 - accuracy: 0.9855 - val_loss: 0.1134 - val_accuracy: 0.9815\n",
            "Epoch 12/15\n",
            "422/422 [==============================] - 4s 10ms/step - loss: 0.0980 - accuracy: 0.9838 - val_loss: 0.1038 - val_accuracy: 0.9833\n",
            "Epoch 13/15\n",
            "422/422 [==============================] - 4s 10ms/step - loss: 0.0921 - accuracy: 0.9852 - val_loss: 0.0940 - val_accuracy: 0.9860\n",
            "Epoch 14/15\n",
            "422/422 [==============================] - 4s 10ms/step - loss: 0.0889 - accuracy: 0.9856 - val_loss: 0.0850 - val_accuracy: 0.9893\n",
            "Epoch 15/15\n",
            "422/422 [==============================] - 4s 10ms/step - loss: 0.0922 - accuracy: 0.9848 - val_loss: 0.0928 - val_accuracy: 0.9862\n"
          ],
          "name": "stdout"
        },
        {
          "output_type": "execute_result",
          "data": {
            "text/plain": [
              "<tensorflow.python.keras.callbacks.History at 0x7f550022f190>"
            ]
          },
          "metadata": {
            "tags": []
          },
          "execution_count": 35
        }
      ]
    },
    {
      "cell_type": "markdown",
      "metadata": {
        "id": "ke6BOdark2D_"
      },
      "source": [
        "# Evaluate the trained model"
      ]
    },
    {
      "cell_type": "code",
      "metadata": {
        "colab": {
          "base_uri": "https://localhost:8080/"
        },
        "id": "11ijQ7Zljas9",
        "outputId": "0c7e3e89-3a15-49f4-da38-9a3b7d5e499f"
      },
      "source": [
        "score = model.evaluate(x_test, y_test, verbose=0)\n",
        "print(\"Test loss:\", score[0])\n",
        "print(\"Test accuracy:\", score[1])"
      ],
      "execution_count": 36,
      "outputs": [
        {
          "output_type": "stream",
          "text": [
            "Test loss: 0.08370407670736313\n",
            "Test accuracy: 0.986299991607666\n"
          ],
          "name": "stdout"
        }
      ]
    },
    {
      "cell_type": "code",
      "metadata": {
        "id": "urf-aQa4Lfi0"
      },
      "source": [
        ""
      ],
      "execution_count": null,
      "outputs": []
    }
  ]
}